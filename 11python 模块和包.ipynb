{
 "cells": [
  {
   "cell_type": "code",
   "execution_count": 8,
   "id": "2870027b",
   "metadata": {},
   "outputs": [
    {
     "name": "stdout",
     "output_type": "stream",
     "text": [
      "Overwriting tang.py\n"
     ]
    }
   ],
   "source": [
    "%%writefile tang.py \n",
    "tang_v=10\n",
    "def tang_add(tang_list):\n",
    "    tang_sum=0\n",
    "    for i in range(len(tang_list)):\n",
    "        tang_sum+=tang_list[i]\n",
    "    return tang_sum\n",
    "tang_list=[1,2,3,4,5]\n",
    "print(tang_add(tang_list))"
   ]
  },
  {
   "cell_type": "code",
   "execution_count": 9,
   "id": "0fcc1b96",
   "metadata": {},
   "outputs": [
    {
     "name": "stdout",
     "output_type": "stream",
     "text": [
      "15\n"
     ]
    }
   ],
   "source": [
    "%run tang.py"
   ]
  },
  {
   "cell_type": "code",
   "execution_count": 10,
   "id": "e9b5dd4c",
   "metadata": {},
   "outputs": [
    {
     "name": "stdout",
     "output_type": "stream",
     "text": [
      "15\n"
     ]
    }
   ],
   "source": [
    "import tang#倒入默认执行一次，再倒入不会"
   ]
  },
  {
   "cell_type": "code",
   "execution_count": 11,
   "id": "1ddf1749",
   "metadata": {},
   "outputs": [
    {
     "data": {
      "text/plain": [
       "<module 'tang' from '/Users/van/Python基础知识/tang.py'>"
      ]
     },
     "execution_count": 11,
     "metadata": {},
     "output_type": "execute_result"
    }
   ],
   "source": [
    "tang#位置信息"
   ]
  },
  {
   "cell_type": "code",
   "execution_count": 12,
   "id": "814ff8e7",
   "metadata": {},
   "outputs": [
    {
     "name": "stdout",
     "output_type": "stream",
     "text": [
      "10\n"
     ]
    }
   ],
   "source": [
    "print(tang.tang_v)"
   ]
  },
  {
   "cell_type": "code",
   "execution_count": 13,
   "id": "d5165e5d",
   "metadata": {},
   "outputs": [
    {
     "data": {
      "text/plain": [
       "100"
      ]
     },
     "execution_count": 13,
     "metadata": {},
     "output_type": "execute_result"
    }
   ],
   "source": [
    "tang.tang_v=100\n",
    "tang.tang_v"
   ]
  },
  {
   "cell_type": "code",
   "execution_count": 17,
   "id": "996f1d0f",
   "metadata": {},
   "outputs": [
    {
     "data": {
      "text/plain": [
       "33"
      ]
     },
     "execution_count": 17,
     "metadata": {},
     "output_type": "execute_result"
    }
   ],
   "source": [
    "tang_list=[10,11,12]\n",
    "tang.tang_add(tang_list)"
   ]
  },
  {
   "cell_type": "code",
   "execution_count": 18,
   "id": "ed021f86",
   "metadata": {},
   "outputs": [],
   "source": [
    "import tang as tg#bie ming"
   ]
  },
  {
   "cell_type": "code",
   "execution_count": 19,
   "id": "02db32ad",
   "metadata": {},
   "outputs": [],
   "source": [
    "from tang import tang_v,tang_add#zhi jie shi yong"
   ]
  },
  {
   "cell_type": "code",
   "execution_count": 20,
   "id": "c51f6cf7",
   "metadata": {},
   "outputs": [
    {
     "data": {
      "text/plain": [
       "100"
      ]
     },
     "execution_count": 20,
     "metadata": {},
     "output_type": "execute_result"
    }
   ],
   "source": [
    "tang_v"
   ]
  },
  {
   "cell_type": "code",
   "execution_count": 21,
   "id": "f9ae2822",
   "metadata": {},
   "outputs": [
    {
     "data": {
      "text/plain": [
       "33"
      ]
     },
     "execution_count": 21,
     "metadata": {},
     "output_type": "execute_result"
    }
   ],
   "source": [
    "tang_add(tang_list)"
   ]
  },
  {
   "cell_type": "code",
   "execution_count": 22,
   "id": "3510544b",
   "metadata": {},
   "outputs": [
    {
     "data": {
      "text/plain": [
       "100"
      ]
     },
     "execution_count": 22,
     "metadata": {},
     "output_type": "execute_result"
    }
   ],
   "source": [
    "tang_v"
   ]
  },
  {
   "cell_type": "code",
   "execution_count": null,
   "id": "9493be7d",
   "metadata": {},
   "outputs": [],
   "source": [
    "from tang import *#quan bu "
   ]
  },
  {
   "cell_type": "code",
   "execution_count": 23,
   "id": "76d80b12",
   "metadata": {},
   "outputs": [],
   "source": [
    "import os \n",
    "os.remove('tang.py')"
   ]
  },
  {
   "cell_type": "code",
   "execution_count": null,
   "id": "beae8781",
   "metadata": {},
   "outputs": [],
   "source": []
  }
 ],
 "metadata": {
  "kernelspec": {
   "display_name": "Python 3 (ipykernel)",
   "language": "python",
   "name": "python3"
  },
  "language_info": {
   "codemirror_mode": {
    "name": "ipython",
    "version": 3
   },
   "file_extension": ".py",
   "mimetype": "text/x-python",
   "name": "python",
   "nbconvert_exporter": "python",
   "pygments_lexer": "ipython3",
   "version": "3.9.13"
  }
 },
 "nbformat": 4,
 "nbformat_minor": 5
}
