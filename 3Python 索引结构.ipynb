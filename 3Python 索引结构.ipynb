{
 "cells": [
  {
   "cell_type": "code",
   "execution_count": 1,
   "id": "92891188",
   "metadata": {},
   "outputs": [
    {
     "data": {
      "text/plain": [
       "'t'"
      ]
     },
     "execution_count": 1,
     "metadata": {},
     "output_type": "execute_result"
    }
   ],
   "source": [
    "tang='tang yu di'\n",
    "tang[0]"
   ]
  },
  {
   "cell_type": "code",
   "execution_count": 2,
   "id": "fc268c75",
   "metadata": {},
   "outputs": [
    {
     "data": {
      "text/plain": [
       "'y'"
      ]
     },
     "execution_count": 2,
     "metadata": {},
     "output_type": "execute_result"
    }
   ],
   "source": [
    "tang[5]"
   ]
  },
  {
   "cell_type": "code",
   "execution_count": 3,
   "id": "47512ccb",
   "metadata": {},
   "outputs": [
    {
     "data": {
      "text/plain": [
       "'i'"
      ]
     },
     "execution_count": 3,
     "metadata": {},
     "output_type": "execute_result"
    }
   ],
   "source": [
    "tang[-1]#负数从后往前数，-1开始，区别于从0开始，不能越界"
   ]
  },
  {
   "cell_type": "code",
   "execution_count": 4,
   "id": "a12c2a98",
   "metadata": {},
   "outputs": [
    {
     "data": {
      "text/plain": [
       "'tang'"
      ]
     },
     "execution_count": 4,
     "metadata": {},
     "output_type": "execute_result"
    }
   ],
   "source": [
    "tang[0:4]   #取到0，不取到4，左闭合，右开区间"
   ]
  },
  {
   "cell_type": "code",
   "execution_count": 5,
   "id": "07539990",
   "metadata": {},
   "outputs": [
    {
     "data": {
      "text/plain": [
       "'yu di'"
      ]
     },
     "execution_count": 5,
     "metadata": {},
     "output_type": "execute_result"
    }
   ],
   "source": [
    "tang[5:]"
   ]
  },
  {
   "cell_type": "code",
   "execution_count": 6,
   "id": "a2629e68",
   "metadata": {},
   "outputs": [
    {
     "data": {
      "text/plain": [
       "'tang yu'"
      ]
     },
     "execution_count": 6,
     "metadata": {},
     "output_type": "execute_result"
    }
   ],
   "source": [
    "tang[:7]"
   ]
  },
  {
   "cell_type": "code",
   "execution_count": 7,
   "id": "0a0f8ae2",
   "metadata": {},
   "outputs": [
    {
     "data": {
      "text/plain": [
       "'ang yu '"
      ]
     },
     "execution_count": 7,
     "metadata": {},
     "output_type": "execute_result"
    }
   ],
   "source": [
    "tang[1:-2]"
   ]
  },
  {
   "cell_type": "code",
   "execution_count": 8,
   "id": "8eb594b1",
   "metadata": {},
   "outputs": [
    {
     "data": {
      "text/plain": [
       "' di'"
      ]
     },
     "execution_count": 8,
     "metadata": {},
     "output_type": "execute_result"
    }
   ],
   "source": [
    "tang[-3:]"
   ]
  },
  {
   "cell_type": "code",
   "execution_count": 9,
   "id": "d1c6af3e",
   "metadata": {},
   "outputs": [
    {
     "data": {
      "text/plain": [
       "'tang yu di'"
      ]
     },
     "execution_count": 9,
     "metadata": {},
     "output_type": "execute_result"
    }
   ],
   "source": [
    "tang[:] #取全部"
   ]
  },
  {
   "cell_type": "code",
   "execution_count": null,
   "id": "001fe6fe",
   "metadata": {},
   "outputs": [],
   "source": [
    "tang[::2]#每隔两个取一个数值"
   ]
  }
 ],
 "metadata": {
  "kernelspec": {
   "display_name": "Python 3 (ipykernel)",
   "language": "python",
   "name": "python3"
  },
  "language_info": {
   "codemirror_mode": {
    "name": "ipython",
    "version": 3
   },
   "file_extension": ".py",
   "mimetype": "text/x-python",
   "name": "python",
   "nbconvert_exporter": "python",
   "pygments_lexer": "ipython3",
   "version": "3.9.13"
  }
 },
 "nbformat": 4,
 "nbformat_minor": 5
}
