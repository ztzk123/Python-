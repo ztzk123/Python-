{
 "cells": [
  {
   "cell_type": "code",
   "execution_count": 1,
   "id": "bbeca3e5",
   "metadata": {},
   "outputs": [],
   "source": [
    "tang=[]#[] creat a new list structure"
   ]
  },
  {
   "cell_type": "code",
   "execution_count": 2,
   "id": "afcc0022",
   "metadata": {},
   "outputs": [
    {
     "data": {
      "text/plain": [
       "list"
      ]
     },
     "execution_count": 2,
     "metadata": {},
     "output_type": "execute_result"
    }
   ],
   "source": [
    "type(tang)"
   ]
  },
  {
   "cell_type": "code",
   "execution_count": 3,
   "id": "c7031515",
   "metadata": {},
   "outputs": [],
   "source": [
    "tang=[1,2,3,4]"
   ]
  },
  {
   "cell_type": "code",
   "execution_count": 4,
   "id": "4f13c4fe",
   "metadata": {},
   "outputs": [
    {
     "data": {
      "text/plain": [
       "[1, 2, 3, 4]"
      ]
     },
     "execution_count": 4,
     "metadata": {},
     "output_type": "execute_result"
    }
   ],
   "source": [
    "tang"
   ]
  },
  {
   "cell_type": "code",
   "execution_count": 7,
   "id": "51fa824f",
   "metadata": {},
   "outputs": [
    {
     "data": {
      "text/plain": [
       "['1', '2', '3', '4']"
      ]
     },
     "execution_count": 7,
     "metadata": {},
     "output_type": "execute_result"
    }
   ],
   "source": [
    "tang=['1','2','3','4']\n",
    "tang"
   ]
  },
  {
   "cell_type": "code",
   "execution_count": 9,
   "id": "6d826d3b",
   "metadata": {},
   "outputs": [
    {
     "data": {
      "text/plain": [
       "[121, 'asdas', 3.4, '5']"
      ]
     },
     "execution_count": 9,
     "metadata": {},
     "output_type": "execute_result"
    }
   ],
   "source": [
    "tang=[121,\"asdas\",3.4,'5']\n",
    "tang"
   ]
  },
  {
   "cell_type": "code",
   "execution_count": 11,
   "id": "7a39b407",
   "metadata": {},
   "outputs": [
    {
     "ename": "TypeError",
     "evalue": "list expected at most 1 argument, got 3",
     "output_type": "error",
     "traceback": [
      "\u001b[0;31m---------------------------------------------------------------------------\u001b[0m",
      "\u001b[0;31mTypeError\u001b[0m                                 Traceback (most recent call last)",
      "\u001b[0;32m/var/folders/6d/_db1k5lx76j9f0n6r5m_v06m0000gn/T/ipykernel_15912/348346465.py\u001b[0m in \u001b[0;36m<module>\u001b[0;34m\u001b[0m\n\u001b[0;32m----> 1\u001b[0;31m \u001b[0mtang\u001b[0m\u001b[0;34m=\u001b[0m\u001b[0mlist\u001b[0m\u001b[0;34m(\u001b[0m\u001b[0;36m1\u001b[0m\u001b[0;34m,\u001b[0m\u001b[0;36m2\u001b[0m\u001b[0;34m,\u001b[0m\u001b[0;36m3\u001b[0m\u001b[0;34m)\u001b[0m\u001b[0;34m\u001b[0m\u001b[0;34m\u001b[0m\u001b[0m\n\u001b[0m\u001b[1;32m      2\u001b[0m \u001b[0mtype\u001b[0m\u001b[0;34m(\u001b[0m\u001b[0mtang\u001b[0m\u001b[0;34m)\u001b[0m\u001b[0;34m\u001b[0m\u001b[0;34m\u001b[0m\u001b[0m\n",
      "\u001b[0;31mTypeError\u001b[0m: list expected at most 1 argument, got 3"
     ]
    }
   ],
   "source": [
    "tang=list(1,2,3)# must add []\n",
    "type(tang)"
   ]
  },
  {
   "cell_type": "code",
   "execution_count": 12,
   "id": "f43844f9",
   "metadata": {},
   "outputs": [
    {
     "data": {
      "text/plain": [
       "[1, 3, 4]"
      ]
     },
     "execution_count": 12,
     "metadata": {},
     "output_type": "execute_result"
    }
   ],
   "source": [
    "tang=list([1,3,4])\n",
    "tang"
   ]
  },
  {
   "cell_type": "code",
   "execution_count": 13,
   "id": "c7ce93bb",
   "metadata": {},
   "outputs": [
    {
     "data": {
      "text/plain": [
       "[123, 456, 'tang', 'yu', 'di']"
      ]
     },
     "execution_count": 13,
     "metadata": {},
     "output_type": "execute_result"
    }
   ],
   "source": [
    "a=[123,456]\n",
    "b=[\"tang\",'yu','di']\n",
    "a+b"
   ]
  },
  {
   "cell_type": "code",
   "execution_count": 14,
   "id": "cd8d6f88",
   "metadata": {},
   "outputs": [
    {
     "data": {
      "text/plain": [
       "[123, 456, 123, 456, 123, 456]"
      ]
     },
     "execution_count": 14,
     "metadata": {},
     "output_type": "execute_result"
    }
   ],
   "source": [
    "a*3\n",
    "#copy 3 element"
   ]
  },
  {
   "cell_type": "code",
   "execution_count": 15,
   "id": "1b85e453",
   "metadata": {},
   "outputs": [],
   "source": [
    "#list 索引规则与python完全一样"
   ]
  },
  {
   "cell_type": "code",
   "execution_count": 17,
   "id": "13f14ecc",
   "metadata": {},
   "outputs": [
    {
     "data": {
      "text/plain": [
       "['tang', 'yudi']"
      ]
     },
     "execution_count": 17,
     "metadata": {},
     "output_type": "execute_result"
    }
   ],
   "source": [
    "a[:]=[\"tang\",\"yudi\"]\n",
    "a#quan bu ti huan"
   ]
  },
  {
   "cell_type": "code",
   "execution_count": 18,
   "id": "fcca6c38",
   "metadata": {},
   "outputs": [
    {
     "data": {
      "text/plain": [
       "['yudi']"
      ]
     },
     "execution_count": 18,
     "metadata": {},
     "output_type": "execute_result"
    }
   ],
   "source": [
    "del a[0]\n",
    "a   #执行一次删一个，执行一次删一个，原始结构已经不一样，执行一个打印一个东西"
   ]
  },
  {
   "cell_type": "code",
   "execution_count": 19,
   "id": "bec44807",
   "metadata": {},
   "outputs": [
    {
     "data": {
      "text/plain": [
       "[1, 2, 3, 4]"
      ]
     },
     "execution_count": 19,
     "metadata": {},
     "output_type": "execute_result"
    }
   ],
   "source": [
    "b=[1,2,3,4,5,6,7]\n",
    "del b[4:]\n",
    "b"
   ]
  },
  {
   "cell_type": "code",
   "execution_count": 20,
   "id": "45a54414",
   "metadata": {},
   "outputs": [
    {
     "data": {
      "text/plain": [
       "True"
      ]
     },
     "execution_count": 20,
     "metadata": {},
     "output_type": "execute_result"
    }
   ],
   "source": [
    "2 in b   #pan duan yi ge shu zai bu zai zi fu chuan zhong"
   ]
  },
  {
   "cell_type": "code",
   "execution_count": 21,
   "id": "90e782db",
   "metadata": {},
   "outputs": [
    {
     "data": {
      "text/plain": [
       "True"
      ]
     },
     "execution_count": 21,
     "metadata": {},
     "output_type": "execute_result"
    }
   ],
   "source": [
    "5 not in b\n"
   ]
  },
  {
   "cell_type": "code",
   "execution_count": 22,
   "id": "eace7a9f",
   "metadata": {},
   "outputs": [],
   "source": [
    "a=[1,2,[3,4]]"
   ]
  },
  {
   "cell_type": "code",
   "execution_count": 23,
   "id": "8e2634a3",
   "metadata": {},
   "outputs": [
    {
     "data": {
      "text/plain": [
       "[1, 2, [3, 4]]"
      ]
     },
     "execution_count": 23,
     "metadata": {},
     "output_type": "execute_result"
    }
   ],
   "source": [
    "a\n"
   ]
  },
  {
   "cell_type": "code",
   "execution_count": 25,
   "id": "69c55402",
   "metadata": {},
   "outputs": [
    {
     "data": {
      "text/plain": [
       "4"
      ]
     },
     "execution_count": 25,
     "metadata": {},
     "output_type": "execute_result"
    }
   ],
   "source": [
    "a[2][1]# xun zhao, xian zhao di yi ceng ,zai zhao di er ceng"
   ]
  },
  {
   "cell_type": "code",
   "execution_count": 27,
   "id": "43116ba8",
   "metadata": {},
   "outputs": [
    {
     "data": {
      "text/plain": [
       "2"
      ]
     },
     "execution_count": 27,
     "metadata": {},
     "output_type": "execute_result"
    }
   ],
   "source": [
    "tang=['apple',1,2,3,4,'apple']#统计元素出现的次数\n",
    "tang.count('apple')"
   ]
  },
  {
   "cell_type": "code",
   "execution_count": 28,
   "id": "ce622891",
   "metadata": {},
   "outputs": [
    {
     "data": {
      "text/plain": [
       "1"
      ]
     },
     "execution_count": 28,
     "metadata": {},
     "output_type": "execute_result"
    }
   ],
   "source": [
    "tang.index(1)#找到第一个索引"
   ]
  },
  {
   "cell_type": "code",
   "execution_count": 29,
   "id": "f6aa62b8",
   "metadata": {},
   "outputs": [
    {
     "data": {
      "text/plain": [
       "0"
      ]
     },
     "execution_count": 29,
     "metadata": {},
     "output_type": "execute_result"
    }
   ],
   "source": [
    "tang.index('apple')"
   ]
  },
  {
   "cell_type": "code",
   "execution_count": 30,
   "id": "7a66bcdd",
   "metadata": {},
   "outputs": [
    {
     "ename": "ValueError",
     "evalue": "9 is not in list",
     "output_type": "error",
     "traceback": [
      "\u001b[0;31m---------------------------------------------------------------------------\u001b[0m",
      "\u001b[0;31mValueError\u001b[0m                                Traceback (most recent call last)",
      "\u001b[0;32m/var/folders/6d/_db1k5lx76j9f0n6r5m_v06m0000gn/T/ipykernel_15912/2489329128.py\u001b[0m in \u001b[0;36m<module>\u001b[0;34m\u001b[0m\n\u001b[0;32m----> 1\u001b[0;31m \u001b[0mtang\u001b[0m\u001b[0;34m.\u001b[0m\u001b[0mindex\u001b[0m\u001b[0;34m(\u001b[0m\u001b[0;36m9\u001b[0m\u001b[0;34m)\u001b[0m\u001b[0;34m\u001b[0m\u001b[0;34m\u001b[0m\u001b[0m\n\u001b[0m",
      "\u001b[0;31mValueError\u001b[0m: 9 is not in list"
     ]
    }
   ],
   "source": [
    "tang.index(9)#没有会报错"
   ]
  },
  {
   "cell_type": "code",
   "execution_count": 31,
   "id": "78756aa1",
   "metadata": {},
   "outputs": [],
   "source": [
    "tang=[]"
   ]
  },
  {
   "cell_type": "code",
   "execution_count": 32,
   "id": "290c65d4",
   "metadata": {},
   "outputs": [],
   "source": [
    "tang.append(\"tang\")  #只能添加一个元素"
   ]
  },
  {
   "cell_type": "code",
   "execution_count": 33,
   "id": "5ebb206f",
   "metadata": {},
   "outputs": [
    {
     "data": {
      "text/plain": [
       "['tang']"
      ]
     },
     "execution_count": 33,
     "metadata": {},
     "output_type": "execute_result"
    }
   ],
   "source": [
    "tang"
   ]
  },
  {
   "cell_type": "code",
   "execution_count": 49,
   "id": "c19dc1bd",
   "metadata": {},
   "outputs": [],
   "source": [
    "tang.append(['tang','yudi'])"
   ]
  },
  {
   "cell_type": "code",
   "execution_count": 50,
   "id": "515fedea",
   "metadata": {},
   "outputs": [
    {
     "data": {
      "text/plain": [
       "['tang', 'python', ['tang', 'yudi']]"
      ]
     },
     "execution_count": 50,
     "metadata": {},
     "output_type": "execute_result"
    }
   ],
   "source": [
    "tang"
   ]
  },
  {
   "cell_type": "code",
   "execution_count": 36,
   "id": "dec7989a",
   "metadata": {},
   "outputs": [],
   "source": [
    "tang.insert(2,\"python\")"
   ]
  },
  {
   "cell_type": "code",
   "execution_count": 51,
   "id": "3ebd0152",
   "metadata": {},
   "outputs": [
    {
     "data": {
      "text/plain": [
       "['tang', 'python', ['tang', 'yudi']]"
      ]
     },
     "execution_count": 51,
     "metadata": {},
     "output_type": "execute_result"
    }
   ],
   "source": [
    "tang"
   ]
  },
  {
   "cell_type": "code",
   "execution_count": 52,
   "id": "48d69972",
   "metadata": {},
   "outputs": [
    {
     "data": {
      "text/plain": [
       "['tang', 'python']"
      ]
     },
     "execution_count": 52,
     "metadata": {},
     "output_type": "execute_result"
    }
   ],
   "source": [
    "tang.remove(['tang','yudi'])\n",
    "tang"
   ]
  },
  {
   "cell_type": "code",
   "execution_count": 53,
   "id": "804e167b",
   "metadata": {},
   "outputs": [
    {
     "data": {
      "text/plain": [
       "'python'"
      ]
     },
     "execution_count": 53,
     "metadata": {},
     "output_type": "execute_result"
    }
   ],
   "source": [
    "tang.pop(1)"
   ]
  },
  {
   "cell_type": "code",
   "execution_count": 54,
   "id": "bb5361d7",
   "metadata": {},
   "outputs": [
    {
     "data": {
      "text/plain": [
       "['tang']"
      ]
     },
     "execution_count": 54,
     "metadata": {},
     "output_type": "execute_result"
    }
   ],
   "source": [
    "tang"
   ]
  },
  {
   "cell_type": "code",
   "execution_count": 57,
   "id": "380de81b",
   "metadata": {},
   "outputs": [
    {
     "data": {
      "text/plain": [
       "[1, 2, 3, 4, 5, 6]"
      ]
     },
     "execution_count": 57,
     "metadata": {},
     "output_type": "execute_result"
    }
   ],
   "source": [
    "tang=[1,2,3,5,4,6]\n",
    "tang.sort()\n",
    "tang"
   ]
  },
  {
   "cell_type": "code",
   "execution_count": 58,
   "id": "32ab3579",
   "metadata": {},
   "outputs": [
    {
     "data": {
      "text/plain": [
       "[1, 2, 3, 4, 5, 6]"
      ]
     },
     "execution_count": 58,
     "metadata": {},
     "output_type": "execute_result"
    }
   ],
   "source": [
    "tang2=sorted(tang)\n",
    "tang2    "
   ]
  },
  {
   "cell_type": "code",
   "execution_count": 61,
   "id": "4300ad31",
   "metadata": {},
   "outputs": [
    {
     "data": {
      "text/plain": [
       "[6, 5, 4, 3, 2, 1]"
      ]
     },
     "execution_count": 61,
     "metadata": {},
     "output_type": "execute_result"
    }
   ],
   "source": [
    "tang2.reverse() #反向排序\n",
    "tang2"
   ]
  },
  {
   "cell_type": "code",
   "execution_count": null,
   "id": "e3067def",
   "metadata": {},
   "outputs": [],
   "source": []
  }
 ],
 "metadata": {
  "kernelspec": {
   "display_name": "Python 3 (ipykernel)",
   "language": "python",
   "name": "python3"
  },
  "language_info": {
   "codemirror_mode": {
    "name": "ipython",
    "version": 3
   },
   "file_extension": ".py",
   "mimetype": "text/x-python",
   "name": "python",
   "nbconvert_exporter": "python",
   "pygments_lexer": "ipython3",
   "version": "3.9.13"
  }
 },
 "nbformat": 4,
 "nbformat_minor": 5
}
