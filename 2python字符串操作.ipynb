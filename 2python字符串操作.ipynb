{
 "cells": [
  {
   "cell_type": "code",
   "execution_count": 1,
   "id": "3c698841",
   "metadata": {},
   "outputs": [],
   "source": [
    "tang=\"hello\"+\" \"+\"python\""
   ]
  },
  {
   "cell_type": "code",
   "execution_count": 2,
   "id": "0cf076d0",
   "metadata": {},
   "outputs": [
    {
     "data": {
      "text/plain": [
       "'hello python'"
      ]
     },
     "execution_count": 2,
     "metadata": {},
     "output_type": "execute_result"
    }
   ],
   "source": [
    "tang"
   ]
  },
  {
   "cell_type": "code",
   "execution_count": 3,
   "id": "523f272d",
   "metadata": {},
   "outputs": [
    {
     "data": {
      "text/plain": [
       "12"
      ]
     },
     "execution_count": 3,
     "metadata": {},
     "output_type": "execute_result"
    }
   ],
   "source": [
    "len(tang)#长度"
   ]
  },
  {
   "cell_type": "code",
   "execution_count": 4,
   "id": "c14aced0",
   "metadata": {},
   "outputs": [
    {
     "data": {
      "text/plain": [
       "['1', '2', '3', '4', '5']"
      ]
     },
     "execution_count": 4,
     "metadata": {},
     "output_type": "execute_result"
    }
   ],
   "source": [
    "tang='1 2 3 4 5'\n",
    "tang.split()"
   ]
  },
  {
   "cell_type": "code",
   "execution_count": 5,
   "id": "6b62c73e",
   "metadata": {},
   "outputs": [
    {
     "data": {
      "text/plain": [
       "['1', '2', '3', '4', '5']"
      ]
     },
     "execution_count": 5,
     "metadata": {},
     "output_type": "execute_result"
    }
   ],
   "source": [
    "tang=\"1,2,3,4,5\"\n",
    "tang.split(\",\")"
   ]
  },
  {
   "cell_type": "code",
   "execution_count": 6,
   "id": "d7cdbca6",
   "metadata": {},
   "outputs": [
    {
     "data": {
      "text/plain": [
       "'1 , 2 , 3 , 4 , 5'"
      ]
     },
     "execution_count": 6,
     "metadata": {},
     "output_type": "execute_result"
    }
   ],
   "source": [
    "tang_str=\" \"\n",
    "tang_str.join(tang)#能切分就能合并"
   ]
  },
  {
   "cell_type": "code",
   "execution_count": 11,
   "id": "6b7baf59",
   "metadata": {},
   "outputs": [
    {
     "data": {
      "text/plain": [
       "'hello world'"
      ]
     },
     "execution_count": 11,
     "metadata": {},
     "output_type": "execute_result"
    }
   ],
   "source": [
    "tang=\"hello python\"\n",
    "tang.replace('python','world')#需要定义新的变量来接受"
   ]
  },
  {
   "cell_type": "code",
   "execution_count": 12,
   "id": "becc3c8e",
   "metadata": {},
   "outputs": [
    {
     "data": {
      "text/plain": [
       "'hello python'"
      ]
     },
     "execution_count": 12,
     "metadata": {},
     "output_type": "execute_result"
    }
   ],
   "source": [
    "tang"
   ]
  },
  {
   "cell_type": "code",
   "execution_count": 13,
   "id": "ff1cbf80",
   "metadata": {},
   "outputs": [
    {
     "data": {
      "text/plain": [
       "'HELLO PYTHON'"
      ]
     },
     "execution_count": 13,
     "metadata": {},
     "output_type": "execute_result"
    }
   ],
   "source": [
    "tang.upper()"
   ]
  },
  {
   "cell_type": "code",
   "execution_count": 14,
   "id": "ee21b95a",
   "metadata": {},
   "outputs": [
    {
     "data": {
      "text/plain": [
       "'hello python'"
      ]
     },
     "execution_count": 14,
     "metadata": {},
     "output_type": "execute_result"
    }
   ],
   "source": [
    "tang.lower()"
   ]
  },
  {
   "cell_type": "code",
   "execution_count": 27,
   "id": "750f601f",
   "metadata": {},
   "outputs": [
    {
     "data": {
      "text/plain": [
       "'hello world'"
      ]
     },
     "execution_count": 27,
     "metadata": {},
     "output_type": "execute_result"
    }
   ],
   "source": [
    "tang=\"      hello world\"\n",
    "tang.strip()#去掉两边的空格  tang.lstrip() zuo kong ge.  tang.rstrip()  you kong ge"
   ]
  },
  {
   "cell_type": "code",
   "execution_count": 16,
   "id": "aed775a3",
   "metadata": {},
   "outputs": [
    {
     "data": {
      "text/plain": [
       "'tang yu di'"
      ]
     },
     "execution_count": 16,
     "metadata": {},
     "output_type": "execute_result"
    }
   ],
   "source": [
    "'{} {} {}'.format('tang','yu','di')"
   ]
  },
  {
   "cell_type": "code",
   "execution_count": 18,
   "id": "eae4aec5",
   "metadata": {},
   "outputs": [
    {
     "data": {
      "text/plain": [
       "'di yu tang'"
      ]
     },
     "execution_count": 18,
     "metadata": {},
     "output_type": "execute_result"
    }
   ],
   "source": [
    "'{2} {1} {0}'.format('tang','yu','di')"
   ]
  },
  {
   "cell_type": "code",
   "execution_count": 20,
   "id": "d369fbd2",
   "metadata": {},
   "outputs": [
    {
     "data": {
      "text/plain": [
       "'10 5 1'"
      ]
     },
     "execution_count": 20,
     "metadata": {},
     "output_type": "execute_result"
    }
   ],
   "source": [
    "'{tang} {yu} {di}'.format(tang=10,yu=5,di=1)"
   ]
  },
  {
   "cell_type": "code",
   "execution_count": 29,
   "id": "3bb378ea",
   "metadata": {},
   "outputs": [],
   "source": [
    "tang=\"tang\"\n",
    "b=456.0\n",
    "c=789\n",
    "result='%s %f %d'%(tang,b,c)"
   ]
  },
  {
   "cell_type": "code",
   "execution_count": 30,
   "id": "9fbd938f",
   "metadata": {},
   "outputs": [
    {
     "data": {
      "text/plain": [
       "'tang 456.000000 789'"
      ]
     },
     "execution_count": 30,
     "metadata": {},
     "output_type": "execute_result"
    }
   ],
   "source": [
    "result"
   ]
  },
  {
   "cell_type": "code",
   "execution_count": null,
   "id": "1734cdb3",
   "metadata": {},
   "outputs": [],
   "source": []
  }
 ],
 "metadata": {
  "kernelspec": {
   "display_name": "Python 3 (ipykernel)",
   "language": "python",
   "name": "python3"
  },
  "language_info": {
   "codemirror_mode": {
    "name": "ipython",
    "version": 3
   },
   "file_extension": ".py",
   "mimetype": "text/x-python",
   "name": "python",
   "nbconvert_exporter": "python",
   "pygments_lexer": "ipython3",
   "version": "3.9.13"
  }
 },
 "nbformat": 4,
 "nbformat_minor": 5
}
